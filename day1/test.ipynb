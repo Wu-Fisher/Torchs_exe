{
 "cells": [
  {
   "cell_type": "code",
   "execution_count": null,
   "metadata": {},
   "outputs": [],
   "source": []
  }
 ],
 "metadata": {
  "interpreter": {
   "hash": "a6014c3a2e288f2e3bf4c7bb6e22c71bce736f06e76d9943cc87f1b6b3a6cc74"
  },
  "kernelspec": {
   "display_name": "Python 3.9.7 ('pytorch': conda)",
   "language": "python",
   "name": "python3"
  },
  "language_info": {
   "name": "python",
   "version": "3.9.7"
  },
  "orig_nbformat": 4
 },
 "nbformat": 4,
 "nbformat_minor": 2
}
